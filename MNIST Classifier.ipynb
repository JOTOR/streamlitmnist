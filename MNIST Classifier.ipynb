{
  "nbformat": 4,
  "nbformat_minor": 0,
  "metadata": {
    "colab": {
      "name": "MNIST.ipynb",
      "provenance": [],
      "collapsed_sections": [],
      "authorship_tag": "ABX9TyMq8N5Lqn0sFCc1w4NCq2H/"
    },
    "kernelspec": {
      "name": "python3",
      "display_name": "Python 3"
    },
    "language_info": {
      "name": "python"
    },
    "accelerator": "GPU"
  },
  "cells": [
    {
      "cell_type": "markdown",
      "metadata": {
        "id": "n7GZBKcc3BEc"
      },
      "source": [
        "# MNIST Classifier with data augmentation\n",
        "\n",
        "**Developed by**: Jhonnatan Torres\n",
        "\n",
        "**Goal**: Build a MNIST classifier with data augmentation to be used in the following Streamlit app **[MNIST Classifier](https://share.streamlit.io/jotor/streamlitmnist/main/mnist.py)**"
      ]
    },
    {
      "cell_type": "code",
      "metadata": {
        "id": "9YK2_bNcNesg",
        "colab": {
          "base_uri": "https://localhost:8080/"
        },
        "outputId": "5d5069c5-a6dc-4250-c109-4e2fadefd72b"
      },
      "source": [
        "import tensorflow as tf\n",
        "mnist = tf.keras.datasets.mnist.load_data()"
      ],
      "execution_count": 1,
      "outputs": [
        {
          "output_type": "stream",
          "name": "stdout",
          "text": [
            "Downloading data from https://storage.googleapis.com/tensorflow/tf-keras-datasets/mnist.npz\n",
            "11493376/11490434 [==============================] - 0s 0us/step\n",
            "11501568/11490434 [==============================] - 0s 0us/step\n"
          ]
        }
      ]
    },
    {
      "cell_type": "code",
      "metadata": {
        "id": "O_IJ35vwN55W"
      },
      "source": [
        "(training_images, training_labels), (test_images, test_labels) = mnist"
      ],
      "execution_count": 2,
      "outputs": []
    },
    {
      "cell_type": "code",
      "metadata": {
        "colab": {
          "base_uri": "https://localhost:8080/"
        },
        "id": "VK1EQf2YQiqf",
        "outputId": "32b0d118-fe48-498e-97b7-4742ee5e03b6"
      },
      "source": [
        "test_images.shape[0]"
      ],
      "execution_count": 3,
      "outputs": [
        {
          "output_type": "execute_result",
          "data": {
            "text/plain": [
              "10000"
            ]
          },
          "metadata": {},
          "execution_count": 3
        }
      ]
    },
    {
      "cell_type": "code",
      "metadata": {
        "id": "EstibiP-N5y5"
      },
      "source": [
        "training_images = training_images.reshape(training_images.shape[0], 28, 28, 1)"
      ],
      "execution_count": 4,
      "outputs": []
    },
    {
      "cell_type": "code",
      "metadata": {
        "id": "S-ZWr6G1N5vv"
      },
      "source": [
        "test_images = test_images.reshape(test_images.shape[0], 28, 28, 1)"
      ],
      "execution_count": 5,
      "outputs": []
    },
    {
      "cell_type": "code",
      "metadata": {
        "id": "glHVKyiu8PZ8"
      },
      "source": [
        "from tensorflow.keras.preprocessing.image import ImageDataGenerator"
      ],
      "execution_count": 6,
      "outputs": []
    },
    {
      "cell_type": "code",
      "metadata": {
        "id": "MTmcZ_eZ8PWz"
      },
      "source": [
        "dg = ImageDataGenerator(rotation_range=20, width_shift_range=0.4, height_shift_range=0.4, rescale= 1/ 255, fill_mode='constant')\n",
        "tdg = ImageDataGenerator(rescale= 1/ 255)"
      ],
      "execution_count": 7,
      "outputs": []
    },
    {
      "cell_type": "code",
      "metadata": {
        "id": "Yls2sfpz8PRe"
      },
      "source": [
        "it = dg.flow(training_images, training_labels)\n",
        "tit = tdg.flow(test_images, test_labels)"
      ],
      "execution_count": 8,
      "outputs": []
    },
    {
      "cell_type": "code",
      "metadata": {
        "id": "wySsO9elN5pw"
      },
      "source": [
        "model = tf.keras.models.Sequential([\n",
        "tf.keras.layers.Conv2D(32, (3,3), activation='relu', input_shape=(28, 28, 1)),\n",
        "tf.keras.layers.Conv2D(32, (2,2), activation='relu', input_shape=(28, 28, 1)),\n",
        "tf.keras.layers.MaxPooling2D((2,2)),\n",
        "tf.keras.layers.Conv2D(64, (3,3), activation='relu', input_shape=(28, 28, 1)),\n",
        "tf.keras.layers.Conv2D(64, (3,3), activation='relu', input_shape=(28, 28, 1)),\n",
        "tf.keras.layers.MaxPooling2D((2,2)),\n",
        "tf.keras.layers.Flatten(),\n",
        "tf.keras.layers.Dense(64, activation='relu'),\n",
        "tf.keras.layers.Dropout(0.5),\n",
        "tf.keras.layers.Dense(10, activation='softmax')\n",
        "])"
      ],
      "execution_count": 9,
      "outputs": []
    },
    {
      "cell_type": "code",
      "metadata": {
        "id": "2qXWfD6CN5me"
      },
      "source": [
        "from tensorflow.keras.optimizers import SGD, Adam\n",
        "#model.compile(optimizer=SGD(learning_rate=0.1, momentum=0.9), loss='sparse_categorical_crossentropy', metrics='accuracy')\n",
        "model.compile(optimizer=Adam(), loss='sparse_categorical_crossentropy', metrics='accuracy')"
      ],
      "execution_count": 10,
      "outputs": []
    },
    {
      "cell_type": "code",
      "metadata": {
        "colab": {
          "base_uri": "https://localhost:8080/"
        },
        "id": "Vk04l93JN5jg",
        "outputId": "e1eb4487-1fd7-419e-b38d-6213322da8bb"
      },
      "source": [
        "model.summary()"
      ],
      "execution_count": 11,
      "outputs": [
        {
          "output_type": "stream",
          "name": "stdout",
          "text": [
            "Model: \"sequential\"\n",
            "_________________________________________________________________\n",
            "Layer (type)                 Output Shape              Param #   \n",
            "=================================================================\n",
            "conv2d (Conv2D)              (None, 26, 26, 32)        320       \n",
            "_________________________________________________________________\n",
            "conv2d_1 (Conv2D)            (None, 25, 25, 32)        4128      \n",
            "_________________________________________________________________\n",
            "max_pooling2d (MaxPooling2D) (None, 12, 12, 32)        0         \n",
            "_________________________________________________________________\n",
            "conv2d_2 (Conv2D)            (None, 10, 10, 64)        18496     \n",
            "_________________________________________________________________\n",
            "conv2d_3 (Conv2D)            (None, 8, 8, 64)          36928     \n",
            "_________________________________________________________________\n",
            "max_pooling2d_1 (MaxPooling2 (None, 4, 4, 64)          0         \n",
            "_________________________________________________________________\n",
            "flatten (Flatten)            (None, 1024)              0         \n",
            "_________________________________________________________________\n",
            "dense (Dense)                (None, 64)                65600     \n",
            "_________________________________________________________________\n",
            "dropout (Dropout)            (None, 64)                0         \n",
            "_________________________________________________________________\n",
            "dense_1 (Dense)              (None, 10)                650       \n",
            "=================================================================\n",
            "Total params: 126,122\n",
            "Trainable params: 126,122\n",
            "Non-trainable params: 0\n",
            "_________________________________________________________________\n"
          ]
        }
      ]
    },
    {
      "cell_type": "code",
      "metadata": {
        "colab": {
          "base_uri": "https://localhost:8080/"
        },
        "id": "7ooyhFPNN5gu",
        "outputId": "83d24161-4e39-491a-9bf6-63a3e2b7444a"
      },
      "source": [
        "model.fit(it, epochs=10, validation_data=tit, batch_size=32, steps_per_epoch=len(it))"
      ],
      "execution_count": 12,
      "outputs": [
        {
          "output_type": "stream",
          "name": "stdout",
          "text": [
            "Epoch 1/10\n",
            "1875/1875 [==============================] - 64s 18ms/step - loss: 1.3161 - accuracy: 0.5292 - val_loss: 0.2167 - val_accuracy: 0.9434\n",
            "Epoch 2/10\n",
            "1875/1875 [==============================] - 35s 19ms/step - loss: 0.6874 - accuracy: 0.7778 - val_loss: 0.1343 - val_accuracy: 0.9593\n",
            "Epoch 3/10\n",
            "1875/1875 [==============================] - 35s 18ms/step - loss: 0.5171 - accuracy: 0.8381 - val_loss: 0.0754 - val_accuracy: 0.9766\n",
            "Epoch 4/10\n",
            "1875/1875 [==============================] - 35s 18ms/step - loss: 0.4262 - accuracy: 0.8680 - val_loss: 0.0672 - val_accuracy: 0.9798\n",
            "Epoch 5/10\n",
            "1875/1875 [==============================] - 35s 18ms/step - loss: 0.3774 - accuracy: 0.8837 - val_loss: 0.0530 - val_accuracy: 0.9826\n",
            "Epoch 6/10\n",
            "1875/1875 [==============================] - 35s 18ms/step - loss: 0.3497 - accuracy: 0.8921 - val_loss: 0.0526 - val_accuracy: 0.9847\n",
            "Epoch 7/10\n",
            "1875/1875 [==============================] - 35s 18ms/step - loss: 0.3243 - accuracy: 0.9032 - val_loss: 0.0428 - val_accuracy: 0.9867\n",
            "Epoch 8/10\n",
            "1875/1875 [==============================] - 34s 18ms/step - loss: 0.3061 - accuracy: 0.9079 - val_loss: 0.0729 - val_accuracy: 0.9804\n",
            "Epoch 9/10\n",
            "1875/1875 [==============================] - 35s 18ms/step - loss: 0.2940 - accuracy: 0.9126 - val_loss: 0.0438 - val_accuracy: 0.9874\n",
            "Epoch 10/10\n",
            "1875/1875 [==============================] - 35s 18ms/step - loss: 0.2796 - accuracy: 0.9166 - val_loss: 0.0404 - val_accuracy: 0.9880\n"
          ]
        },
        {
          "output_type": "execute_result",
          "data": {
            "text/plain": [
              "<keras.callbacks.History at 0x7f166304a850>"
            ]
          },
          "metadata": {},
          "execution_count": 12
        }
      ]
    },
    {
      "cell_type": "code",
      "metadata": {
        "id": "iuM-XGcYN5d7"
      },
      "source": [
        "model.save('mnist.h5')"
      ],
      "execution_count": 13,
      "outputs": []
    },
    {
      "cell_type": "code",
      "metadata": {
        "colab": {
          "base_uri": "https://localhost:8080/"
        },
        "id": "l_JHR4hkN5bY",
        "outputId": "55af06e9-36d7-434e-fe66-7de51e3875ae"
      },
      "source": [
        "%cd /content/\n",
        "%ls"
      ],
      "execution_count": 14,
      "outputs": [
        {
          "output_type": "stream",
          "name": "stdout",
          "text": [
            "/content\n",
            "mnist.h5  \u001b[0m\u001b[01;34msample_data\u001b[0m/\n"
          ]
        }
      ]
    },
    {
      "cell_type": "code",
      "metadata": {
        "colab": {
          "base_uri": "https://localhost:8080/"
        },
        "id": "sJOhK9aGD8m7",
        "outputId": "5c26a44f-f264-455d-fb9d-5382059ed7ea"
      },
      "source": [
        "model.history.history.keys()"
      ],
      "execution_count": 15,
      "outputs": [
        {
          "output_type": "execute_result",
          "data": {
            "text/plain": [
              "dict_keys(['loss', 'accuracy', 'val_loss', 'val_accuracy'])"
            ]
          },
          "metadata": {},
          "execution_count": 15
        }
      ]
    },
    {
      "cell_type": "code",
      "metadata": {
        "id": "KUCdEgxSKfhk"
      },
      "source": [
        "import numpy as np\n",
        "preds = np.argmax(model.predict(test_images / 255 ), axis=1)"
      ],
      "execution_count": 16,
      "outputs": []
    },
    {
      "cell_type": "code",
      "metadata": {
        "id": "KH9-xj65beCh"
      },
      "source": [
        "from sklearn.metrics import confusion_matrix"
      ],
      "execution_count": 17,
      "outputs": []
    },
    {
      "cell_type": "code",
      "metadata": {
        "colab": {
          "base_uri": "https://localhost:8080/"
        },
        "id": "v5ws7pHXbnLT",
        "outputId": "900da733-0d90-4c66-c22d-e316e19ea131"
      },
      "source": [
        "print(confusion_matrix(test_labels, preds))"
      ],
      "execution_count": 18,
      "outputs": [
        {
          "output_type": "stream",
          "name": "stdout",
          "text": [
            "[[ 971    0    2    0    0    1    5    0    0    1]\n",
            " [   0 1131    1    0    0    1    0    2    0    0]\n",
            " [   2    2 1012    6    0    0    0   10    0    0]\n",
            " [   0    0    0 1004    0    4    0    1    1    0]\n",
            " [   0    1    0    0  976    0    1    0    0    4]\n",
            " [   1    0    0    4    0  882    4    0    1    0]\n",
            " [   2    5    0    0    0    2  947    0    2    0]\n",
            " [   0    7    6    0    0    0    0 1015    0    0]\n",
            " [   0    0    2    2    0    1    1    0  965    3]\n",
            " [   7    0    0    0   11    6    0    4    4  977]]\n"
          ]
        }
      ]
    }
  ]
}